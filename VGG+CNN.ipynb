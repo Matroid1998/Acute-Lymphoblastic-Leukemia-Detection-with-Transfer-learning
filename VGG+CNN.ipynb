{
  "nbformat": 4,
  "nbformat_minor": 0,
  "metadata": {
    "colab": {
      "provenance": []
    },
    "kernelspec": {
      "name": "python3",
      "display_name": "Python 3"
    },
    "language_info": {
      "name": "python"
    },
    "accelerator": "GPU",
    "gpuClass": "standard"
  },
  "cells": [
    {
      "cell_type": "code",
      "execution_count": null,
      "metadata": {
        "colab": {
          "base_uri": "https://localhost:8080/"
        },
        "id": "EIVuVd8kE7DY",
        "outputId": "2e10ce3e-8c44-4141-ab9b-1f3599d7655b"
      },
      "outputs": [
        {
          "output_type": "stream",
          "name": "stdout",
          "text": [
            "Mounted at /content/drive\n"
          ]
        }
      ],
      "source": [
        "from google.colab import drive\n",
        "drive.mount('/content/drive')\n"
      ]
    },
    {
      "cell_type": "code",
      "source": [
        "path='/content/drive/My Drive/img'\n",
        "import os\n",
        "import numpy as np\n",
        "import tensorflow as tf\n",
        "from tensorflow import keras\n",
        "import cv2"
      ],
      "metadata": {
        "id": "Y8hN906oE9-U"
      },
      "execution_count": null,
      "outputs": []
    },
    {
      "cell_type": "code",
      "source": [
        "gpu_info = !nvidia-smi\n",
        "gpu_info = '\\n'.join(gpu_info)\n",
        "if gpu_info.find('failed') >= 0:\n",
        "  print('Not connected to a GPU')\n",
        "else:\n",
        "  print(gpu_info)"
      ],
      "metadata": {
        "colab": {
          "base_uri": "https://localhost:8080/"
        },
        "id": "Y-zz-qExFB_m",
        "outputId": "4e0a3e70-409b-4027-f068-88ae3520747b"
      },
      "execution_count": null,
      "outputs": [
        {
          "output_type": "stream",
          "name": "stdout",
          "text": [
            "Sun Jul 24 14:12:31 2022       \n",
            "+-----------------------------------------------------------------------------+\n",
            "| NVIDIA-SMI 460.32.03    Driver Version: 460.32.03    CUDA Version: 11.2     |\n",
            "|-------------------------------+----------------------+----------------------+\n",
            "| GPU  Name        Persistence-M| Bus-Id        Disp.A | Volatile Uncorr. ECC |\n",
            "| Fan  Temp  Perf  Pwr:Usage/Cap|         Memory-Usage | GPU-Util  Compute M. |\n",
            "|                               |                      |               MIG M. |\n",
            "|===============================+======================+======================|\n",
            "|   0  Tesla T4            Off  | 00000000:00:04.0 Off |                    0 |\n",
            "| N/A   47C    P8    10W /  70W |      3MiB / 15109MiB |      0%      Default |\n",
            "|                               |                      |                  N/A |\n",
            "+-------------------------------+----------------------+----------------------+\n",
            "                                                                               \n",
            "+-----------------------------------------------------------------------------+\n",
            "| Processes:                                                                  |\n",
            "|  GPU   GI   CI        PID   Type   Process name                  GPU Memory |\n",
            "|        ID   ID                                                   Usage      |\n",
            "|=============================================================================|\n",
            "|  No running processes found                                                 |\n",
            "+-----------------------------------------------------------------------------+\n"
          ]
        }
      ]
    },
    {
      "cell_type": "code",
      "source": [
        "imagePaths=[os.path.join(path,f) for f in os.listdir(path)]\n",
        "training_data=[]\n",
        "def create_training_data(ImageP):\n",
        "  for imagepath in imagePaths:\n",
        "    img_array=cv2.imread(imagepath)\n",
        "    new_array=cv2.resize(img_array,(224,224))\n",
        "    class_label=int(imagepath[-5])\n",
        "    training_data.append([new_array,class_label])\n",
        "create_training_data(imagePaths)"
      ],
      "metadata": {
        "id": "m4oqUtceFFdT"
      },
      "execution_count": null,
      "outputs": []
    },
    {
      "cell_type": "code",
      "source": [
        "import random\n",
        "random.shuffle(training_data)\n",
        "X=[]\n",
        "y=[]\n",
        "for image ,label in training_data:\n",
        "  X.append(image)\n",
        "  y.append(label)\n",
        "X=np.array(X).reshape(-1,224,224,3).astype('float32')\n",
        "y=np.array(y)  "
      ],
      "metadata": {
        "id": "LIw1NxyoFGry"
      },
      "execution_count": null,
      "outputs": []
    },
    {
      "cell_type": "code",
      "source": [
        "from sklearn.model_selection import StratifiedShuffleSplit\n",
        "split = StratifiedShuffleSplit(n_splits=1, test_size=0.2, random_state=42)\n",
        "for train_index, test_index in split.split(X, y):\n",
        "    X_train = X[train_index]\n",
        "    X_test = X[test_index]\n",
        "    y_train=y[train_index]\n",
        "    y_test=y[test_index]"
      ],
      "metadata": {
        "id": "05gmvZOTFWge"
      },
      "execution_count": null,
      "outputs": []
    },
    {
      "cell_type": "code",
      "source": [
        "X_train=np.array(X_train).reshape(-1,224,224,3).astype('float32')\n",
        "y_train=np.array(y_train)\n",
        "X_test=np.array(X_test).reshape(-1,224,224,3).astype('float32')\n",
        "y_test=np.array(y_test)"
      ],
      "metadata": {
        "id": "6CbEgD5qFZWL"
      },
      "execution_count": null,
      "outputs": []
    },
    {
      "cell_type": "code",
      "source": [
        "X_train=keras.applications.vgg16.preprocess_input(X_train)\n",
        "X_test=keras.applications.vgg16.preprocess_input(X_test)"
      ],
      "metadata": {
        "id": "LFv9qWngFa_o"
      },
      "execution_count": null,
      "outputs": []
    },
    {
      "cell_type": "code",
      "source": [
        "vgg=keras.applications.vgg16.VGG16(input_shape=(224,224,3),weights='imagenet',include_top=False)"
      ],
      "metadata": {
        "colab": {
          "base_uri": "https://localhost:8080/"
        },
        "id": "os6G449TFcX8",
        "outputId": "63b42b28-a162-4a41-9e7b-d7e3890be685"
      },
      "execution_count": null,
      "outputs": [
        {
          "output_type": "stream",
          "name": "stdout",
          "text": [
            "Downloading data from https://storage.googleapis.com/tensorflow/keras-applications/vgg16/vgg16_weights_tf_dim_ordering_tf_kernels_notop.h5\n",
            "58892288/58889256 [==============================] - 1s 0us/step\n",
            "58900480/58889256 [==============================] - 1s 0us/step\n"
          ]
        }
      ]
    },
    {
      "cell_type": "code",
      "source": [
        "my_smaller_model =keras.models.Model(vgg.input,vgg.get_layer(\"block3_conv3\").output)\n",
        "my_smaller_model.trainable = False"
      ],
      "metadata": {
        "id": "CCHPvxWyFfAr"
      },
      "execution_count": null,
      "outputs": []
    },
    {
      "cell_type": "code",
      "source": [
        "for layer in my_smaller_model.layers:\n",
        "     layer.trainable = False"
      ],
      "metadata": {
        "id": "URAGwS2AFgnv"
      },
      "execution_count": null,
      "outputs": []
    },
    {
      "cell_type": "code",
      "source": [
        "base_model_output = my_smaller_model.output\n",
        "gap = keras.layers.GlobalAveragePooling2D()(base_model_output)\n",
        "fc = keras.layers.Dense(units=256, activation=\"relu\")(gap)\n",
        "output = keras.layers.Dense(1, activation=\"sigmoid\")(fc)"
      ],
      "metadata": {
        "id": "iEMzwxW4Fh5y"
      },
      "execution_count": null,
      "outputs": []
    },
    {
      "cell_type": "code",
      "source": [
        "transfer_model = keras.models.Model(my_smaller_model.input, output)"
      ],
      "metadata": {
        "id": "ngehD15sFkL3"
      },
      "execution_count": null,
      "outputs": []
    },
    {
      "cell_type": "code",
      "source": [
        "transfer_model.compile(loss=\"binary_crossentropy\",optimizer='adam',metrics=['accuracy'])"
      ],
      "metadata": {
        "id": "BboXydAjFlZL"
      },
      "execution_count": null,
      "outputs": []
    },
    {
      "cell_type": "code",
      "source": [
        "from sklearn.model_selection import StratifiedKFold\n",
        "early_stopping_cb = keras.callbacks.EarlyStopping(patience=10,\n",
        "restore_best_weights=True)\n",
        "skfolds = StratifiedKFold(n_splits=5)\n",
        "for train_index, test_index in skfolds.split(X_train, y_train):\n",
        "  X_train_folds = X_train[train_index]\n",
        "  y_train_folds = y_train[train_index]\n",
        "  X_test_fold = X_train[test_index]\n",
        "  y_test_fold = y_train[test_index]\n",
        "  transfer_model.fit(X_train,y_train,batch_size=1,epochs=30,validation_split=0.1,callbacks=[early_stopping_cb])\n",
        "  y_pred = transfer_model.predict(X_test_fold)\n",
        "  n_correct = sum(y_pred == y_test_fold)"
      ],
      "metadata": {
        "colab": {
          "base_uri": "https://localhost:8080/"
        },
        "id": "ePjGqlibGEd5",
        "outputId": "8cf78ab1-6d3e-4d6e-bc5b-4372d52faf5c"
      },
      "execution_count": null,
      "outputs": [
        {
          "output_type": "stream",
          "name": "stdout",
          "text": [
            "Epoch 1/30\n",
            "187/187 [==============================] - 12s 7ms/step - loss: 30.2201 - accuracy: 0.5668 - val_loss: 2.2045 - val_accuracy: 0.8095\n",
            "Epoch 2/30\n",
            "187/187 [==============================] - 1s 6ms/step - loss: 6.7243 - accuracy: 0.7273 - val_loss: 0.4671 - val_accuracy: 0.9524\n",
            "Epoch 3/30\n",
            "187/187 [==============================] - 1s 6ms/step - loss: 6.7431 - accuracy: 0.8021 - val_loss: 0.0615 - val_accuracy: 0.9524\n",
            "Epoch 4/30\n",
            "187/187 [==============================] - 1s 5ms/step - loss: 8.4032 - accuracy: 0.7540 - val_loss: 14.9733 - val_accuracy: 0.4762\n",
            "Epoch 5/30\n",
            "187/187 [==============================] - 1s 5ms/step - loss: 8.7544 - accuracy: 0.7166 - val_loss: 0.7360 - val_accuracy: 0.9524\n",
            "Epoch 6/30\n",
            "187/187 [==============================] - 1s 5ms/step - loss: 1.6488 - accuracy: 0.8770 - val_loss: 8.5883 - val_accuracy: 0.6190\n",
            "Epoch 7/30\n",
            "187/187 [==============================] - 1s 5ms/step - loss: 3.3653 - accuracy: 0.8235 - val_loss: 0.0063 - val_accuracy: 1.0000\n",
            "Epoch 8/30\n",
            "187/187 [==============================] - 1s 5ms/step - loss: 3.2664 - accuracy: 0.8503 - val_loss: 0.3909 - val_accuracy: 0.9524\n",
            "Epoch 9/30\n",
            "187/187 [==============================] - 1s 5ms/step - loss: 1.4386 - accuracy: 0.8984 - val_loss: 0.0910 - val_accuracy: 0.9524\n",
            "Epoch 10/30\n",
            "187/187 [==============================] - 1s 5ms/step - loss: 1.4536 - accuracy: 0.9091 - val_loss: 0.4693 - val_accuracy: 0.9048\n",
            "Epoch 11/30\n",
            "187/187 [==============================] - 1s 5ms/step - loss: 2.3233 - accuracy: 0.8610 - val_loss: 0.8669 - val_accuracy: 0.9048\n",
            "Epoch 12/30\n",
            "187/187 [==============================] - 1s 5ms/step - loss: 1.1150 - accuracy: 0.8663 - val_loss: 0.0119 - val_accuracy: 1.0000\n",
            "Epoch 13/30\n",
            "187/187 [==============================] - 1s 5ms/step - loss: 1.1888 - accuracy: 0.9198 - val_loss: 2.6549e-04 - val_accuracy: 1.0000\n",
            "Epoch 14/30\n",
            "187/187 [==============================] - 1s 5ms/step - loss: 0.7263 - accuracy: 0.9144 - val_loss: 7.4456 - val_accuracy: 0.5714\n",
            "Epoch 15/30\n",
            "187/187 [==============================] - 1s 5ms/step - loss: 0.4179 - accuracy: 0.9572 - val_loss: 2.5633 - val_accuracy: 0.7619\n",
            "Epoch 16/30\n",
            "187/187 [==============================] - 1s 5ms/step - loss: 0.7223 - accuracy: 0.9144 - val_loss: 2.1962 - val_accuracy: 0.8095\n",
            "Epoch 17/30\n",
            "187/187 [==============================] - 1s 5ms/step - loss: 1.1013 - accuracy: 0.9198 - val_loss: 0.1740 - val_accuracy: 0.9048\n",
            "Epoch 18/30\n",
            "187/187 [==============================] - 1s 6ms/step - loss: 0.2717 - accuracy: 0.9465 - val_loss: 9.4042e-04 - val_accuracy: 1.0000\n",
            "Epoch 19/30\n",
            "187/187 [==============================] - 1s 5ms/step - loss: 0.4206 - accuracy: 0.9412 - val_loss: 0.1504 - val_accuracy: 0.9524\n",
            "Epoch 20/30\n",
            "187/187 [==============================] - 1s 5ms/step - loss: 0.4368 - accuracy: 0.9358 - val_loss: 0.1611 - val_accuracy: 0.9524\n",
            "Epoch 21/30\n",
            "187/187 [==============================] - 1s 5ms/step - loss: 0.2647 - accuracy: 0.9358 - val_loss: 2.7278 - val_accuracy: 0.7143\n",
            "Epoch 22/30\n",
            "187/187 [==============================] - 1s 5ms/step - loss: 0.7305 - accuracy: 0.8984 - val_loss: 0.0029 - val_accuracy: 1.0000\n",
            "Epoch 23/30\n",
            "187/187 [==============================] - 1s 6ms/step - loss: 0.2505 - accuracy: 0.9519 - val_loss: 0.6265 - val_accuracy: 0.8571\n",
            "Epoch 1/30\n",
            "187/187 [==============================] - 1s 6ms/step - loss: 1.1057 - accuracy: 0.9251 - val_loss: 2.9341e-04 - val_accuracy: 1.0000\n",
            "Epoch 2/30\n",
            "187/187 [==============================] - 1s 6ms/step - loss: 0.9227 - accuracy: 0.8877 - val_loss: 11.9696 - val_accuracy: 0.4762\n",
            "Epoch 3/30\n",
            "187/187 [==============================] - 1s 5ms/step - loss: 0.6302 - accuracy: 0.9251 - val_loss: 0.4048 - val_accuracy: 0.8571\n",
            "Epoch 4/30\n",
            "187/187 [==============================] - 1s 5ms/step - loss: 0.6149 - accuracy: 0.9144 - val_loss: 0.0797 - val_accuracy: 0.9524\n",
            "Epoch 5/30\n",
            "187/187 [==============================] - 1s 6ms/step - loss: 1.1366 - accuracy: 0.8663 - val_loss: 0.0043 - val_accuracy: 1.0000\n",
            "Epoch 6/30\n",
            "187/187 [==============================] - 1s 5ms/step - loss: 0.2501 - accuracy: 0.9305 - val_loss: 0.0045 - val_accuracy: 1.0000\n",
            "Epoch 7/30\n",
            "187/187 [==============================] - 1s 6ms/step - loss: 0.4743 - accuracy: 0.8824 - val_loss: 0.6998 - val_accuracy: 0.8095\n",
            "Epoch 8/30\n",
            "187/187 [==============================] - 1s 6ms/step - loss: 1.0695 - accuracy: 0.8717 - val_loss: 1.4719 - val_accuracy: 0.6190\n",
            "Epoch 9/30\n",
            "187/187 [==============================] - 1s 5ms/step - loss: 0.4648 - accuracy: 0.8396 - val_loss: 0.1932 - val_accuracy: 0.9048\n",
            "Epoch 10/30\n",
            "187/187 [==============================] - 1s 5ms/step - loss: 0.2835 - accuracy: 0.8984 - val_loss: 0.1574 - val_accuracy: 1.0000\n",
            "Epoch 11/30\n",
            "187/187 [==============================] - 1s 5ms/step - loss: 0.2045 - accuracy: 0.9144 - val_loss: 0.0592 - val_accuracy: 0.9524\n",
            "Epoch 1/30\n",
            "187/187 [==============================] - 1s 6ms/step - loss: 2.9124 - accuracy: 0.8128 - val_loss: 0.0546 - val_accuracy: 0.9524\n",
            "Epoch 2/30\n",
            "187/187 [==============================] - 1s 6ms/step - loss: 0.4606 - accuracy: 0.9305 - val_loss: 0.0182 - val_accuracy: 1.0000\n",
            "Epoch 3/30\n",
            "187/187 [==============================] - 1s 5ms/step - loss: 0.3119 - accuracy: 0.9091 - val_loss: 0.0328 - val_accuracy: 1.0000\n",
            "Epoch 4/30\n",
            "187/187 [==============================] - 1s 5ms/step - loss: 0.1991 - accuracy: 0.9465 - val_loss: 0.5013 - val_accuracy: 0.7619\n",
            "Epoch 5/30\n",
            "187/187 [==============================] - 1s 5ms/step - loss: 0.1927 - accuracy: 0.9412 - val_loss: 0.0228 - val_accuracy: 1.0000\n",
            "Epoch 6/30\n",
            "187/187 [==============================] - 1s 5ms/step - loss: 0.1132 - accuracy: 0.9572 - val_loss: 0.0113 - val_accuracy: 1.0000\n",
            "Epoch 7/30\n",
            "187/187 [==============================] - 1s 5ms/step - loss: 0.0996 - accuracy: 0.9626 - val_loss: 0.0270 - val_accuracy: 1.0000\n",
            "Epoch 8/30\n",
            "187/187 [==============================] - 1s 5ms/step - loss: 0.1727 - accuracy: 0.9519 - val_loss: 0.2810 - val_accuracy: 0.9048\n",
            "Epoch 9/30\n",
            "187/187 [==============================] - 1s 5ms/step - loss: 0.2444 - accuracy: 0.9091 - val_loss: 0.0230 - val_accuracy: 1.0000\n",
            "Epoch 10/30\n",
            "187/187 [==============================] - 1s 5ms/step - loss: 0.2601 - accuracy: 0.9198 - val_loss: 0.5089 - val_accuracy: 0.7619\n",
            "Epoch 11/30\n",
            "187/187 [==============================] - 1s 5ms/step - loss: 0.1601 - accuracy: 0.9465 - val_loss: 0.0250 - val_accuracy: 1.0000\n",
            "Epoch 12/30\n",
            "187/187 [==============================] - 1s 5ms/step - loss: 0.0692 - accuracy: 0.9840 - val_loss: 0.7173 - val_accuracy: 0.7619\n",
            "Epoch 13/30\n",
            "187/187 [==============================] - 1s 5ms/step - loss: 0.1058 - accuracy: 0.9626 - val_loss: 0.0275 - val_accuracy: 1.0000\n",
            "Epoch 14/30\n",
            "187/187 [==============================] - 1s 5ms/step - loss: 0.1318 - accuracy: 0.9572 - val_loss: 0.2809 - val_accuracy: 0.8571\n",
            "Epoch 15/30\n",
            "187/187 [==============================] - 1s 5ms/step - loss: 0.1408 - accuracy: 0.9572 - val_loss: 0.0133 - val_accuracy: 1.0000\n",
            "Epoch 16/30\n",
            "187/187 [==============================] - 1s 5ms/step - loss: 0.1071 - accuracy: 0.9679 - val_loss: 0.0428 - val_accuracy: 1.0000\n",
            "Epoch 1/30\n",
            "187/187 [==============================] - 1s 5ms/step - loss: 0.3885 - accuracy: 0.8717 - val_loss: 0.2732 - val_accuracy: 0.8571\n",
            "Epoch 2/30\n",
            "187/187 [==============================] - 1s 5ms/step - loss: 0.2159 - accuracy: 0.9037 - val_loss: 0.5440 - val_accuracy: 0.7619\n",
            "Epoch 3/30\n",
            "187/187 [==============================] - 1s 5ms/step - loss: 0.2417 - accuracy: 0.8930 - val_loss: 0.0447 - val_accuracy: 1.0000\n",
            "Epoch 4/30\n",
            "187/187 [==============================] - 1s 5ms/step - loss: 0.3489 - accuracy: 0.8824 - val_loss: 0.0790 - val_accuracy: 1.0000\n",
            "Epoch 5/30\n",
            "187/187 [==============================] - 1s 6ms/step - loss: 0.1821 - accuracy: 0.9305 - val_loss: 0.1545 - val_accuracy: 0.9524\n",
            "Epoch 6/30\n",
            "187/187 [==============================] - 1s 5ms/step - loss: 0.1352 - accuracy: 0.9519 - val_loss: 0.0594 - val_accuracy: 1.0000\n",
            "Epoch 7/30\n",
            "187/187 [==============================] - 1s 5ms/step - loss: 0.1025 - accuracy: 0.9733 - val_loss: 0.0881 - val_accuracy: 0.9524\n",
            "Epoch 8/30\n",
            "187/187 [==============================] - 1s 6ms/step - loss: 0.2333 - accuracy: 0.9251 - val_loss: 0.0676 - val_accuracy: 1.0000\n",
            "Epoch 9/30\n",
            "187/187 [==============================] - 1s 5ms/step - loss: 0.1064 - accuracy: 0.9465 - val_loss: 0.0659 - val_accuracy: 1.0000\n",
            "Epoch 10/30\n",
            "187/187 [==============================] - 1s 5ms/step - loss: 0.1389 - accuracy: 0.9465 - val_loss: 0.0329 - val_accuracy: 1.0000\n",
            "Epoch 11/30\n",
            "187/187 [==============================] - 1s 5ms/step - loss: 0.0840 - accuracy: 0.9733 - val_loss: 0.0251 - val_accuracy: 1.0000\n",
            "Epoch 12/30\n",
            "187/187 [==============================] - 1s 5ms/step - loss: 0.1206 - accuracy: 0.9465 - val_loss: 0.1309 - val_accuracy: 0.9048\n",
            "Epoch 13/30\n",
            "187/187 [==============================] - 1s 5ms/step - loss: 0.1408 - accuracy: 0.9679 - val_loss: 0.0493 - val_accuracy: 1.0000\n",
            "Epoch 14/30\n",
            "187/187 [==============================] - 1s 5ms/step - loss: 0.1344 - accuracy: 0.9519 - val_loss: 0.0179 - val_accuracy: 1.0000\n",
            "Epoch 15/30\n",
            "187/187 [==============================] - 1s 5ms/step - loss: 0.3093 - accuracy: 0.9358 - val_loss: 0.2418 - val_accuracy: 0.9048\n",
            "Epoch 16/30\n",
            "187/187 [==============================] - 1s 6ms/step - loss: 0.2211 - accuracy: 0.9251 - val_loss: 0.0850 - val_accuracy: 0.9524\n",
            "Epoch 17/30\n",
            "187/187 [==============================] - 1s 5ms/step - loss: 0.0474 - accuracy: 0.9893 - val_loss: 0.0201 - val_accuracy: 1.0000\n",
            "Epoch 18/30\n",
            "187/187 [==============================] - 1s 5ms/step - loss: 0.2653 - accuracy: 0.8610 - val_loss: 0.5885 - val_accuracy: 0.4762\n",
            "Epoch 19/30\n",
            "187/187 [==============================] - 1s 5ms/step - loss: 0.3990 - accuracy: 0.7540 - val_loss: 0.3284 - val_accuracy: 0.9524\n",
            "Epoch 20/30\n",
            "187/187 [==============================] - 1s 5ms/step - loss: 0.3056 - accuracy: 0.8556 - val_loss: 0.6953 - val_accuracy: 0.5238\n",
            "Epoch 21/30\n",
            "187/187 [==============================] - 1s 6ms/step - loss: 0.6905 - accuracy: 0.4973 - val_loss: 0.6920 - val_accuracy: 0.5238\n",
            "Epoch 22/30\n",
            "187/187 [==============================] - 1s 5ms/step - loss: 0.6866 - accuracy: 0.5080 - val_loss: 0.6921 - val_accuracy: 0.5238\n",
            "Epoch 23/30\n",
            "187/187 [==============================] - 1s 5ms/step - loss: 0.6864 - accuracy: 0.5080 - val_loss: 0.6921 - val_accuracy: 0.5238\n",
            "Epoch 24/30\n",
            "187/187 [==============================] - 1s 5ms/step - loss: 0.6956 - accuracy: 0.5027 - val_loss: 0.8123 - val_accuracy: 0.5714\n",
            "Epoch 1/30\n",
            "187/187 [==============================] - 1s 6ms/step - loss: 0.4038 - accuracy: 0.8877 - val_loss: 0.5045 - val_accuracy: 0.6667\n",
            "Epoch 2/30\n",
            "187/187 [==============================] - 1s 5ms/step - loss: 0.5758 - accuracy: 0.8075 - val_loss: 0.4291 - val_accuracy: 0.8095\n",
            "Epoch 3/30\n",
            "187/187 [==============================] - 1s 5ms/step - loss: 0.4566 - accuracy: 0.8449 - val_loss: 0.6096 - val_accuracy: 0.6667\n",
            "Epoch 4/30\n",
            "187/187 [==============================] - 1s 5ms/step - loss: 0.5866 - accuracy: 0.7273 - val_loss: 0.8255 - val_accuracy: 0.4762\n",
            "Epoch 5/30\n",
            "187/187 [==============================] - 1s 5ms/step - loss: 0.6952 - accuracy: 0.5027 - val_loss: 0.7045 - val_accuracy: 0.4762\n",
            "Epoch 6/30\n",
            "187/187 [==============================] - 1s 6ms/step - loss: 0.6985 - accuracy: 0.5027 - val_loss: 0.7032 - val_accuracy: 0.4762\n",
            "Epoch 7/30\n",
            "187/187 [==============================] - 1s 5ms/step - loss: 0.6974 - accuracy: 0.5027 - val_loss: 0.7017 - val_accuracy: 0.4762\n",
            "Epoch 8/30\n",
            "187/187 [==============================] - 1s 6ms/step - loss: 0.6967 - accuracy: 0.5027 - val_loss: 0.7005 - val_accuracy: 0.4762\n",
            "Epoch 9/30\n",
            "187/187 [==============================] - 1s 6ms/step - loss: 0.6962 - accuracy: 0.5027 - val_loss: 0.6998 - val_accuracy: 0.4762\n",
            "Epoch 10/30\n",
            "187/187 [==============================] - 1s 6ms/step - loss: 0.6957 - accuracy: 0.5027 - val_loss: 0.6988 - val_accuracy: 0.4762\n",
            "Epoch 11/30\n",
            "187/187 [==============================] - 1s 5ms/step - loss: 0.6952 - accuracy: 0.5027 - val_loss: 0.6981 - val_accuracy: 0.4762\n",
            "Epoch 12/30\n",
            "187/187 [==============================] - 1s 5ms/step - loss: 0.6949 - accuracy: 0.5027 - val_loss: 0.6972 - val_accuracy: 0.4762\n"
          ]
        }
      ]
    },
    {
      "cell_type": "code",
      "source": [
        "my_smaller_model.trainable = True\n",
        "for layer in my_smaller_model.layers:\n",
        "     layer.trainable = True "
      ],
      "metadata": {
        "id": "hZBeVH7cGHxN"
      },
      "execution_count": null,
      "outputs": []
    },
    {
      "cell_type": "code",
      "source": [
        "ADAM= keras.optimizers.Adam(learning_rate=0.00001)\n",
        "transfer_model.compile(loss=\"binary_crossentropy\",optimizer=ADAM,metrics=['accuracy'])"
      ],
      "metadata": {
        "id": "vq1Og0aCGI56"
      },
      "execution_count": null,
      "outputs": []
    },
    {
      "cell_type": "code",
      "source": [
        "transfer_model.fit(X_train,y_train,batch_size=10,epochs=20,validation_split=0.1,callbacks=[early_stopping_cb])"
      ],
      "metadata": {
        "colab": {
          "base_uri": "https://localhost:8080/"
        },
        "id": "AvqCeKrWGP52",
        "outputId": "17de75a0-6a06-4837-d284-8c4b426c157f"
      },
      "execution_count": null,
      "outputs": [
        {
          "output_type": "stream",
          "name": "stdout",
          "text": [
            "Epoch 1/20\n",
            "19/19 [==============================] - 5s 108ms/step - loss: 0.2210 - accuracy: 0.9465 - val_loss: 0.2013 - val_accuracy: 0.9048\n",
            "Epoch 2/20\n",
            "19/19 [==============================] - 1s 66ms/step - loss: 0.1204 - accuracy: 0.9679 - val_loss: 0.1291 - val_accuracy: 0.9524\n",
            "Epoch 3/20\n",
            "19/19 [==============================] - 1s 66ms/step - loss: 0.1378 - accuracy: 0.9679 - val_loss: 0.1666 - val_accuracy: 0.9048\n",
            "Epoch 4/20\n",
            "19/19 [==============================] - 1s 66ms/step - loss: 0.1096 - accuracy: 0.9679 - val_loss: 0.1113 - val_accuracy: 1.0000\n",
            "Epoch 5/20\n",
            "19/19 [==============================] - 1s 65ms/step - loss: 0.1588 - accuracy: 0.9091 - val_loss: 0.4287 - val_accuracy: 0.8095\n",
            "Epoch 6/20\n",
            "19/19 [==============================] - 1s 66ms/step - loss: 0.1445 - accuracy: 0.9412 - val_loss: 0.0906 - val_accuracy: 0.9524\n",
            "Epoch 7/20\n",
            "19/19 [==============================] - 1s 67ms/step - loss: 0.0588 - accuracy: 0.9786 - val_loss: 0.0684 - val_accuracy: 0.9524\n",
            "Epoch 8/20\n",
            "19/19 [==============================] - 1s 67ms/step - loss: 0.0375 - accuracy: 0.9893 - val_loss: 0.0269 - val_accuracy: 1.0000\n",
            "Epoch 9/20\n",
            "19/19 [==============================] - 1s 66ms/step - loss: 0.0291 - accuracy: 0.9947 - val_loss: 0.0573 - val_accuracy: 1.0000\n",
            "Epoch 10/20\n",
            "19/19 [==============================] - 1s 66ms/step - loss: 0.0801 - accuracy: 0.9733 - val_loss: 0.0259 - val_accuracy: 1.0000\n",
            "Epoch 11/20\n",
            "19/19 [==============================] - 1s 66ms/step - loss: 0.0788 - accuracy: 0.9733 - val_loss: 0.0199 - val_accuracy: 1.0000\n",
            "Epoch 12/20\n",
            "19/19 [==============================] - 1s 66ms/step - loss: 0.0835 - accuracy: 0.9786 - val_loss: 0.1248 - val_accuracy: 0.9048\n",
            "Epoch 13/20\n",
            "19/19 [==============================] - 1s 66ms/step - loss: 0.0307 - accuracy: 1.0000 - val_loss: 0.0388 - val_accuracy: 1.0000\n",
            "Epoch 14/20\n",
            "19/19 [==============================] - 1s 66ms/step - loss: 0.0172 - accuracy: 1.0000 - val_loss: 0.0186 - val_accuracy: 1.0000\n",
            "Epoch 15/20\n",
            "19/19 [==============================] - 1s 66ms/step - loss: 0.0152 - accuracy: 1.0000 - val_loss: 0.0292 - val_accuracy: 1.0000\n",
            "Epoch 16/20\n",
            "19/19 [==============================] - 1s 66ms/step - loss: 0.0159 - accuracy: 1.0000 - val_loss: 0.0184 - val_accuracy: 1.0000\n",
            "Epoch 17/20\n",
            "19/19 [==============================] - 1s 65ms/step - loss: 0.0188 - accuracy: 1.0000 - val_loss: 0.0343 - val_accuracy: 1.0000\n",
            "Epoch 18/20\n",
            "19/19 [==============================] - 1s 66ms/step - loss: 0.0191 - accuracy: 0.9947 - val_loss: 0.0180 - val_accuracy: 1.0000\n",
            "Epoch 19/20\n",
            "19/19 [==============================] - 1s 65ms/step - loss: 0.0269 - accuracy: 0.9947 - val_loss: 0.0192 - val_accuracy: 1.0000\n",
            "Epoch 20/20\n",
            "19/19 [==============================] - 1s 65ms/step - loss: 0.0155 - accuracy: 1.0000 - val_loss: 0.0281 - val_accuracy: 1.0000\n"
          ]
        },
        {
          "output_type": "execute_result",
          "data": {
            "text/plain": [
              "<keras.callbacks.History at 0x7fdb364cfb50>"
            ]
          },
          "metadata": {},
          "execution_count": 18
        }
      ]
    },
    {
      "cell_type": "code",
      "source": [
        "mse_test = transfer_model.evaluate(X_test, y_test)"
      ],
      "metadata": {
        "colab": {
          "base_uri": "https://localhost:8080/"
        },
        "id": "gnmh98JeGSVA",
        "outputId": "79e4ca42-7ecc-4899-9e72-ef5c221adfd9"
      },
      "execution_count": null,
      "outputs": [
        {
          "output_type": "stream",
          "name": "stdout",
          "text": [
            "2/2 [==============================] - 1s 432ms/step - loss: 0.0890 - accuracy: 0.9808\n"
          ]
        }
      ]
    },
    {
      "cell_type": "code",
      "source": [],
      "metadata": {
        "id": "hWXIC9uAjBBM"
      },
      "execution_count": null,
      "outputs": []
    }
  ]
}